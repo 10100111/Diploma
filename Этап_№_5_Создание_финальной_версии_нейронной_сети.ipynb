{
  "nbformat": 4,
  "nbformat_minor": 0,
  "metadata": {
    "colab": {
      "provenance": [],
      "toc_visible": true,
      "machine_shape": "hm",
      "mount_file_id": "1xr_19_YepUpNyrJ6_4ZbfnQPJtT_i9_p",
      "authorship_tag": "ABX9TyNPjpFFYXkhzOp99SiwPkiU",
      "include_colab_link": true
    },
    "kernelspec": {
      "name": "python3",
      "display_name": "Python 3"
    },
    "language_info": {
      "name": "python"
    },
    "gpuClass": "standard"
  },
  "cells": [
    {
      "cell_type": "markdown",
      "metadata": {
        "id": "view-in-github",
        "colab_type": "text"
      },
      "source": [
        "<a href=\"https://colab.research.google.com/github/10100111/Diploma/blob/main/%D0%AD%D1%82%D0%B0%D0%BF_%E2%84%96_5_%D0%A1%D0%BE%D0%B7%D0%B4%D0%B0%D0%BD%D0%B8%D0%B5_%D1%84%D0%B8%D0%BD%D0%B0%D0%BB%D1%8C%D0%BD%D0%BE%D0%B9_%D0%B2%D0%B5%D1%80%D1%81%D0%B8%D0%B8_%D0%BD%D0%B5%D0%B9%D1%80%D0%BE%D0%BD%D0%BD%D0%BE%D0%B9_%D1%81%D0%B5%D1%82%D0%B8.ipynb\" target=\"_parent\"><img src=\"https://colab.research.google.com/assets/colab-badge.svg\" alt=\"Open In Colab\"/></a>"
      ]
    },
    {
      "cell_type": "markdown",
      "source": [
        "# Тема: «Прогнозирование маршрутов передвижения пассажиров Московского метрополитена на основании данных о валидации транспортных карт»"
      ],
      "metadata": {
        "id": "YF4IYKqWgBGn"
      }
    },
    {
      "cell_type": "markdown",
      "source": [
        "# Описание задачи:\n",
        "\n",
        "- Предсказать, на какой станции и через какой промежуток времени, этот пассажир воспользуется метро повторно\n",
        "\n",
        "- Описание столбцов для train и test:\n",
        "\n",
        "● id - уникальный идентификатор столбца;\n",
        "\n",
        "● ticket_id - уникальный идентификатор\n",
        "билета, считается, что у одного\n",
        "билета один владелец\n",
        "\n",
        "● ticket_type_nm - тип билета\n",
        "\n",
        "● entrance_id - уникальный id входа в станцию\n",
        "\n",
        "● entrance_nm - название\n",
        "\n",
        "● station_id - уникальное id станции захода\n",
        "\n",
        "● station_nm - наименование станции захода\n",
        "\n",
        "● line_id - уникальный id ветки на, которой находится станция\n",
        "\n",
        "● line_nm - наименование ветки, на которой находится станция\n",
        "\n",
        "● pass_dttm - дата валидации\n",
        "\n",
        "● time_to_under (столбец для предсказания) - сколько времени прошло\n",
        "между первой и второй валидацией\n",
        "\n",
        "● label (столбец для предсказания) - id второй станции, на которой\n",
        "произошла валидация\n",
        "\n",
        "\n"
      ],
      "metadata": {
        "id": "cBnUfbPItJ33"
      }
    },
    {
      "cell_type": "markdown",
      "source": [
        "# База\n",
        "По ссылке :  \n",
        "https://drive.google.com/drive/folders/1c3nMb_moC6A9HfoX_6_Na-fy3JrDdRAe?usp=sharing\n",
        "\n",
        "Вспомогательный файл к базе - subway.csv, весит 2 Гб.\n",
        "Пока сохранено здесь https://drive.google.com/file/d/1gpPA9-JJe9zYDvr14mARJi8_uU1YGQmL/view?usp=sharing"
      ],
      "metadata": {
        "id": "6fcM8bBbtM3t"
      }
    },
    {
      "cell_type": "markdown",
      "source": [
        "# Параметризация данных\n",
        "\n",
        "Поскольку основными способами решения задачи были выбраны autoML и алгоритмы классического ML, то требовалось предобработать датасет под оба варианта. Как в дальнейшем показал опыт, всегда требуется чистить данные, потому, что для дообучения лучших autoML моделей необработанные данные не подходят.\n",
        "\n",
        "Исходные данные представляют собой DataFrame. В ходе обработки данных произведено:\n",
        "\n",
        " - Анализ данных. Пропусков не обнаружено. Основной поток пассажиров валидируется с интервалом 5-11 часов. Есть смысл разбить пассажиров на категории по типу проездного билета. В среднем один билет ездил 3,25 раза, следовательно стоит обратить внимание на создание признаков по ticket_id. Сенерированы признаки, коррелирующие с таргетами.\n",
        "\n",
        " - Визуализация данных.\n",
        "\n",
        " - После повторного анализа удалены избыточные признаки.  \n",
        "\n",
        "[Ноутбук](https://colab.research.google.com/drive/1xr_19_YepUpNyrJ6_4ZbfnQPJtT_i9_p?usp=sharing) с визуализацией и деталями обработки датасета.\n"
      ],
      "metadata": {
        "id": "KrkOndSs_OLE"
      }
    },
    {
      "cell_type": "markdown",
      "source": [
        "# Поиск модели\n",
        "У нас 2 подзадачи:\n",
        " 1. Предсказазние времени повторной валидации. Это задача регрессии.\n",
        " 2. Предсказание станции повторной валидации. Это задача классификации на 276 классов (id станций).\n",
        "\n",
        "\n",
        "В ходе подбора моделей также тестировались разные подходы к формированию датасета:\n",
        " - В формате DataFrame.\n",
        " - В формате numpy:\n",
        "  - Преобразованные данные:\n",
        "    - нормированные данные\n",
        "    - данные переведенные в one hot encoding\n",
        "  - Непреобразованные данные.\n",
        "\n",
        "Для фиксации результатов использовался [журнал наблюдений](https://docs.google.com/spreadsheets/d/1gRSfXwXpUOmXeXONo83qpAdX-NFGnGQNd4PwqpYBh1g/edit?usp=sharing). В журнале сохранены ссылки на ноутбуки с эксприментами.\n",
        "\n",
        "Поскольку autoMl считается самым быстрым способом валидации гипотез, подбор решения включал в себя несколько вариантов:\n",
        "\n",
        "- Autokeras. Cразу было получено перспективное решение с моделью регрессии , метрика r2 = 0.83. Модель классификации дала ничтожно мало, recall = 0.05. Временные затраты на эксперименты заняли более 7 дней, так как ресурса Colab оказалось недостаточно. Приветствуется применение callback'ов для остановки обучения, если нет прогресса и можно сохранять лучшие веса, на случай, если обучение прервется. Будем считать решение для задачи предсказания времени второй валидации нашлось, а классификатор ищем дальше.\n",
        "\n",
        " - LGBM классификатор. Дал низкий показатель метрики recall = 0.06. Работает относительно быстро.\n",
        "\n",
        " - OPTUNA - библиотека для подбора гиперпараметров, использовалась для LGBM. Неоправдано ресурсоемкая задача, а результат слабый.\n",
        "\n",
        " - Autosklearn. Здесь автоподборщик AutoSklearnClassifier() выдал алгоритмическое решение на основе K-mean c cost = 0.99, но метрика recall  на данной модели оказалась самая худшая. Однако это меня навело на мысль использовать алгоритмы для решения задачи классификации.\n",
        "\n",
        "\n",
        "Модель DecisionTreeClassifier() дал быстрый и высокий показатель метрики recall = 0.99. Предсказание номера станции второй валидации прошло успешно. Применение алгоритма деревьев решений, DecisionTreeRegressor(), в задаче предсказания времени второй валидации, дало также быстрый и наиболее точный результат r2 = 0.99.\n",
        "\n",
        "\n",
        "\n"
      ],
      "metadata": {
        "id": "j0RsGGMq_OC-"
      }
    },
    {
      "cell_type": "markdown",
      "source": [
        "# Результат дипломной работы\n",
        "\n"
      ],
      "metadata": {
        "id": "gUBRntGx-toe"
      }
    },
    {
      "cell_type": "markdown",
      "source": [
        "## Загрузка библиотек\n"
      ],
      "metadata": {
        "id": "xwDZNmknPAQ1"
      }
    },
    {
      "cell_type": "code",
      "execution_count": null,
      "metadata": {
        "id": "5arXCXdazb7o"
      },
      "outputs": [],
      "source": [
        "import pandas as pd\n",
        "\n",
        "from sklearn.metrics import r2_score, recall_score\n",
        "from sklearn.model_selection import cross_val_score\n",
        "from sklearn.tree import DecisionTreeRegressor, DecisionTreeClassifier\n",
        "\n",
        "from tensorflow.keras.models import load_model\n",
        "\n",
        "from joblib import dump, load"
      ]
    },
    {
      "cell_type": "code",
      "execution_count": null,
      "metadata": {
        "colab": {
          "base_uri": "https://localhost:8080/"
        },
        "id": "MfM7enLE0JUA",
        "outputId": "a6e91827-0ce6-48c0-8faf-8811cc0f786b"
      },
      "outputs": [
        {
          "output_type": "stream",
          "name": "stdout",
          "text": [
            "Mounted at /content/drive\n"
          ]
        }
      ],
      "source": [
        "from google.colab import drive\n",
        "drive.mount('/content/drive')"
      ]
    },
    {
      "cell_type": "markdown",
      "source": [
        "## Загрузка датасетов"
      ],
      "metadata": {
        "id": "S8JPXteFQRp4"
      }
    },
    {
      "cell_type": "code",
      "source": [
        "# Загружаем предобработанный датасет для задачи регрессии\n",
        "x_train_reg = pd.read_csv('/content/drive/MyDrive/Базы/Metro/Datasets/datasets_df_clf/X_train_reg_df.csv')\n",
        "x_test_reg = pd.read_csv('/content/drive/MyDrive/Базы/Metro/Datasets/datasets_df_clf/X_test_reg_df.csv')\n",
        "y_train_reg = pd.read_csv('/content/drive/MyDrive/Базы/Metro/Datasets/datasets_df_clf/Y_train_reg_df.csv')\n",
        "y_test_reg = pd.read_csv('/content/drive/MyDrive/Базы/Metro/Datasets/datasets_df_clf/Y_test_reg_df.csv')\n",
        "\n",
        "x_train_reg.shape, x_test_reg.shape, y_train_reg.shape, y_test_reg.shape"
      ],
      "metadata": {
        "colab": {
          "base_uri": "https://localhost:8080/"
        },
        "id": "8zD0njaUOn-m",
        "outputId": "fefc78ec-da45-47f9-ac7f-2c0433b37862"
      },
      "execution_count": null,
      "outputs": [
        {
          "output_type": "execute_result",
          "data": {
            "text/plain": [
              "((872816, 25), (218205, 25), (872816, 1), (218205, 1))"
            ]
          },
          "metadata": {},
          "execution_count": 6
        }
      ]
    },
    {
      "cell_type": "code",
      "source": [
        "# Загружаем предобработанный датасет для задачи классификации\n",
        "X_train_clf = pd.read_csv('/content/drive/MyDrive/Базы/Metro/Datasets/datasets_df_clf/X_train_clf_df.csv')\n",
        "X_test_clf = pd.read_csv('/content/drive/MyDrive/Базы/Metro/Datasets/datasets_df_clf/X_test_clf_df.csv')\n",
        "y_train_clf = pd.read_csv('/content/drive/MyDrive/Базы/Metro/Datasets/datasets_df_clf/Y_train_clf_df.csv')\n",
        "y_test_clf = pd.read_csv('/content/drive/MyDrive/Базы/Metro/Datasets/datasets_df_clf/Y_test_clf_df.csv')\n",
        "\n",
        "X_train_clf.shape, X_test_clf.shape, y_train_clf.shape, y_test_clf.shape"
      ],
      "metadata": {
        "colab": {
          "base_uri": "https://localhost:8080/"
        },
        "id": "w5tPUKY6Qn6x",
        "outputId": "445ebae7-9717-41c3-a830-67f1436b9ce6"
      },
      "execution_count": null,
      "outputs": [
        {
          "output_type": "execute_result",
          "data": {
            "text/plain": [
              "((872816, 25), (218205, 25), (872816, 1), (218205, 1))"
            ]
          },
          "metadata": {},
          "execution_count": 8
        }
      ]
    },
    {
      "cell_type": "markdown",
      "source": [
        "## Модели, score"
      ],
      "metadata": {
        "id": "r3ktc0xMQ_up"
      }
    },
    {
      "cell_type": "code",
      "source": [
        "# Загружаем модель регрессии\n",
        "reg = load('/content/drive/MyDrive/Базы/Metro/Models/DecisionTreeRegressor.joblib')\n",
        "\n",
        "# Загружаем модель классификации\n",
        "clf = load('/content/drive/MyDrive/Базы/Metro/Models/DecisionTreeClassifier_v2.joblib')"
      ],
      "metadata": {
        "id": "MJRmvve4RJs2"
      },
      "execution_count": null,
      "outputs": []
    },
    {
      "cell_type": "code",
      "source": [
        "# Предсказываем время следующей валидации на тестовом наборе данных\n",
        "time_predict = reg.predict(x_test_reg)\n",
        "\n",
        "# Предсказываем станцию валидации на тестовом наборе данных\n",
        "station_predict = clf.predict(X_test_clf)"
      ],
      "metadata": {
        "id": "_P6OIiQ1RfN0"
      },
      "execution_count": null,
      "outputs": []
    },
    {
      "cell_type": "code",
      "source": [
        "# Вычисляем результат согласно формуле по ТЗ, где\n",
        "# для классификации используем метрику recall,\n",
        "# для регрессии испьзуем метрику r2\n",
        "score = 0.5 * recall_score(y_test_clf, station_predict , average='macro') +  0.5 * r2_score(y_test_reg, time_predict)\n",
        "score\n"
      ],
      "metadata": {
        "colab": {
          "base_uri": "https://localhost:8080/"
        },
        "id": "1bUmQzxPSKAA",
        "outputId": "4e18ff85-99f8-4f24-90c0-09227498fc66"
      },
      "execution_count": null,
      "outputs": [
        {
          "output_type": "execute_result",
          "data": {
            "text/plain": [
              "0.9951046904175287"
            ]
          },
          "metadata": {},
          "execution_count": 13
        }
      ]
    },
    {
      "cell_type": "markdown",
      "source": [
        "# Выводы\n",
        "\n",
        "1. Неожиданностью явиловсь решение задачи с помощью модели алгоритма CART, а не модели нейронной сети.\n",
        "\n",
        "2. Найденное решение появилось, когда пришлось изучить материалы по работе с несбалансированными классами, где CART показал себя особенно эффективно и по ресурсам и по времени, затраченному на реализацию.\n",
        "\n",
        "3. AutoML оказался не таким уж быстрым и подходящим инструментом, относительно данной задачи.\n",
        "\n",
        "4. В работе с моделями нейронных сетей всегда нужно использовать коллбеки для оптимизации поиска и сохранения результатов.\n",
        "\n",
        "5. Всегда чистить данные насколько это возможно и преобразовывать в категории. При работе с нейронными сетями и autoML обязательно преобразовывать в OHE, иначе дообучение лучшей модели будет невозможно.\n",
        "\n",
        "6. При работе с табличными данными в первую очередь применять классические алгоритмы, они могут дать быстрый и лучший результат."
      ],
      "metadata": {
        "id": "k-zTP20KTvvp"
      }
    },
    {
      "cell_type": "code",
      "source": [],
      "metadata": {
        "id": "TMWgxAdYW1Dh"
      },
      "execution_count": null,
      "outputs": []
    }
  ]
}