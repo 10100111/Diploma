{
  "cells": [
    {
      "cell_type": "markdown",
      "metadata": {
        "id": "view-in-github",
        "colab_type": "text"
      },
      "source": [
        "<a href=\"https://colab.research.google.com/github/10100111/Diploma/blob/main/Autokeras_regression_v2_DecisionTreeRegressor.ipynb\" target=\"_parent\"><img src=\"https://colab.research.google.com/assets/colab-badge.svg\" alt=\"Open In Colab\"/></a>"
      ]
    },
    {
      "cell_type": "markdown",
      "metadata": {
        "id": "JD3htDjVIYUY"
      },
      "source": [
        "# Описание задачи"
      ]
    },
    {
      "cell_type": "markdown",
      "metadata": {
        "id": "dlEAcMMxIdr0"
      },
      "source": [
        "Предсказать, на какой станции и через какой промежуток\n",
        "времени, этот пассажир воспользуется метро повторно"
      ]
    },
    {
      "cell_type": "markdown",
      "metadata": {
        "id": "2sDcnoE31laE"
      },
      "source": [
        "Описание столбцов для train и test:\n",
        "\n",
        "● id - уникальный идентификатор столбца;\n",
        "\n",
        "● ticket_id - уникальный идентификатор\n",
        "билета, считается, что у одного\n",
        "билета один владелец\n",
        "\n",
        "● ticket_type_nm - тип билета\n",
        "\n",
        "● entrance_id - уникальный id входа в станцию\n",
        "\n",
        "● entrance_nm - название\n",
        "\n",
        "● station_id - уникальное id станции захода\n",
        "\n",
        "● station_nm - наименование станции захода\n",
        "\n",
        "● line_id - уникальный id ветки на, которой находится станция\n",
        "\n",
        "● line_nm - наименование ветки, на которой находится станция\n",
        "\n",
        "● pass_dttm - дата валидации\n",
        "\n",
        "● time_to_under (столбец для предсказания) - сколько времени прошло\n",
        "между первой и второй валидацией\n",
        "\n",
        "● label (столбец для предсказания) - id второй станции, на которой\n",
        "произошла валидация"
      ]
    },
    {
      "cell_type": "markdown",
      "metadata": {
        "id": "oUYEqvIcrMae"
      },
      "source": [
        "# Загрузка библиотек"
      ]
    },
    {
      "cell_type": "code",
      "execution_count": null,
      "metadata": {
        "colab": {
          "base_uri": "https://localhost:8080/"
        },
        "id": "HAIRFp-XGVg6",
        "outputId": "a1f01c37-faa0-4e2c-8e6c-e950f2c1dacb"
      },
      "outputs": [
        {
          "output_type": "stream",
          "name": "stdout",
          "text": [
            "Looking in indexes: https://pypi.org/simple, https://us-python.pkg.dev/colab-wheels/public/simple/\n",
            "Collecting autokeras\n",
            "  Downloading autokeras-1.1.0-py3-none-any.whl (148 kB)\n",
            "\u001b[2K     \u001b[90m━━━━━━━━━━━━━━━━━━━━━━━━━━━━━━━━━━━━━━━\u001b[0m \u001b[32m148.6/148.6 kB\u001b[0m \u001b[31m2.8 MB/s\u001b[0m eta \u001b[36m0:00:00\u001b[0m\n",
            "\u001b[?25hCollecting keras-tuner>=1.1.0\n",
            "  Downloading keras_tuner-1.3.5-py3-none-any.whl (176 kB)\n",
            "\u001b[2K     \u001b[90m━━━━━━━━━━━━━━━━━━━━━━━━━━━━━━━━━━━━━━━\u001b[0m \u001b[32m176.1/176.1 kB\u001b[0m \u001b[31m5.9 MB/s\u001b[0m eta \u001b[36m0:00:00\u001b[0m\n",
            "\u001b[?25hRequirement already satisfied: packaging in /usr/local/lib/python3.10/dist-packages (from autokeras) (23.1)\n",
            "Requirement already satisfied: pandas in /usr/local/lib/python3.10/dist-packages (from autokeras) (1.5.3)\n",
            "Collecting keras-nlp>=0.4.0\n",
            "  Downloading keras_nlp-0.4.1-py3-none-any.whl (466 kB)\n",
            "\u001b[2K     \u001b[90m━━━━━━━━━━━━━━━━━━━━━━━━━━━━━━━━━━━━━━\u001b[0m \u001b[32m466.8/466.8 kB\u001b[0m \u001b[31m16.7 MB/s\u001b[0m eta \u001b[36m0:00:00\u001b[0m\n",
            "\u001b[?25hRequirement already satisfied: tensorflow>=2.8.0 in /usr/local/lib/python3.10/dist-packages (from autokeras) (2.12.0)\n",
            "Requirement already satisfied: numpy in /usr/local/lib/python3.10/dist-packages (from keras-nlp>=0.4.0->autokeras) (1.22.4)\n",
            "Requirement already satisfied: absl-py in /usr/local/lib/python3.10/dist-packages (from keras-nlp>=0.4.0->autokeras) (1.4.0)\n",
            "Collecting tensorflow-text\n",
            "  Downloading tensorflow_text-2.12.1-cp310-cp310-manylinux_2_17_x86_64.manylinux2014_x86_64.whl (6.0 MB)\n",
            "\u001b[2K     \u001b[90m━━━━━━━━━━━━━━━━━━━━━━━━━━━━━━━━━━━━━━━━\u001b[0m \u001b[32m6.0/6.0 MB\u001b[0m \u001b[31m22.4 MB/s\u001b[0m eta \u001b[36m0:00:00\u001b[0m\n",
            "\u001b[?25hCollecting kt-legacy\n",
            "  Downloading kt_legacy-1.0.5-py3-none-any.whl (9.6 kB)\n",
            "Requirement already satisfied: requests in /usr/local/lib/python3.10/dist-packages (from keras-tuner>=1.1.0->autokeras) (2.27.1)\n",
            "Requirement already satisfied: h5py>=2.9.0 in /usr/local/lib/python3.10/dist-packages (from tensorflow>=2.8.0->autokeras) (3.8.0)\n",
            "Requirement already satisfied: google-pasta>=0.1.1 in /usr/local/lib/python3.10/dist-packages (from tensorflow>=2.8.0->autokeras) (0.2.0)\n",
            "Requirement already satisfied: typing-extensions>=3.6.6 in /usr/local/lib/python3.10/dist-packages (from tensorflow>=2.8.0->autokeras) (4.5.0)\n",
            "Requirement already satisfied: tensorflow-io-gcs-filesystem>=0.23.1 in /usr/local/lib/python3.10/dist-packages (from tensorflow>=2.8.0->autokeras) (0.32.0)\n",
            "Requirement already satisfied: wrapt<1.15,>=1.11.0 in /usr/local/lib/python3.10/dist-packages (from tensorflow>=2.8.0->autokeras) (1.14.1)\n",
            "Requirement already satisfied: opt-einsum>=2.3.2 in /usr/local/lib/python3.10/dist-packages (from tensorflow>=2.8.0->autokeras) (3.3.0)\n",
            "Requirement already satisfied: jax>=0.3.15 in /usr/local/lib/python3.10/dist-packages (from tensorflow>=2.8.0->autokeras) (0.4.8)\n",
            "Requirement already satisfied: tensorboard<2.13,>=2.12 in /usr/local/lib/python3.10/dist-packages (from tensorflow>=2.8.0->autokeras) (2.12.2)\n",
            "Requirement already satisfied: flatbuffers>=2.0 in /usr/local/lib/python3.10/dist-packages (from tensorflow>=2.8.0->autokeras) (23.3.3)\n",
            "Requirement already satisfied: gast<=0.4.0,>=0.2.1 in /usr/local/lib/python3.10/dist-packages (from tensorflow>=2.8.0->autokeras) (0.4.0)\n",
            "Requirement already satisfied: protobuf!=4.21.0,!=4.21.1,!=4.21.2,!=4.21.3,!=4.21.4,!=4.21.5,<5.0.0dev,>=3.20.3 in /usr/local/lib/python3.10/dist-packages (from tensorflow>=2.8.0->autokeras) (3.20.3)\n",
            "Requirement already satisfied: libclang>=13.0.0 in /usr/local/lib/python3.10/dist-packages (from tensorflow>=2.8.0->autokeras) (16.0.0)\n",
            "Requirement already satisfied: six>=1.12.0 in /usr/local/lib/python3.10/dist-packages (from tensorflow>=2.8.0->autokeras) (1.16.0)\n",
            "Requirement already satisfied: astunparse>=1.6.0 in /usr/local/lib/python3.10/dist-packages (from tensorflow>=2.8.0->autokeras) (1.6.3)\n",
            "Requirement already satisfied: grpcio<2.0,>=1.24.3 in /usr/local/lib/python3.10/dist-packages (from tensorflow>=2.8.0->autokeras) (1.54.0)\n",
            "Requirement already satisfied: setuptools in /usr/local/lib/python3.10/dist-packages (from tensorflow>=2.8.0->autokeras) (67.7.2)\n",
            "Requirement already satisfied: tensorflow-estimator<2.13,>=2.12.0 in /usr/local/lib/python3.10/dist-packages (from tensorflow>=2.8.0->autokeras) (2.12.0)\n",
            "Requirement already satisfied: keras<2.13,>=2.12.0 in /usr/local/lib/python3.10/dist-packages (from tensorflow>=2.8.0->autokeras) (2.12.0)\n",
            "Requirement already satisfied: termcolor>=1.1.0 in /usr/local/lib/python3.10/dist-packages (from tensorflow>=2.8.0->autokeras) (2.3.0)\n",
            "Requirement already satisfied: pytz>=2020.1 in /usr/local/lib/python3.10/dist-packages (from pandas->autokeras) (2022.7.1)\n",
            "Requirement already satisfied: python-dateutil>=2.8.1 in /usr/local/lib/python3.10/dist-packages (from pandas->autokeras) (2.8.2)\n",
            "Requirement already satisfied: wheel<1.0,>=0.23.0 in /usr/local/lib/python3.10/dist-packages (from astunparse>=1.6.0->tensorflow>=2.8.0->autokeras) (0.40.0)\n",
            "Requirement already satisfied: ml-dtypes>=0.0.3 in /usr/local/lib/python3.10/dist-packages (from jax>=0.3.15->tensorflow>=2.8.0->autokeras) (0.1.0)\n",
            "Requirement already satisfied: scipy>=1.7 in /usr/local/lib/python3.10/dist-packages (from jax>=0.3.15->tensorflow>=2.8.0->autokeras) (1.10.1)\n",
            "Requirement already satisfied: google-auth<3,>=1.6.3 in /usr/local/lib/python3.10/dist-packages (from tensorboard<2.13,>=2.12->tensorflow>=2.8.0->autokeras) (2.17.3)\n",
            "Requirement already satisfied: tensorboard-plugin-wit>=1.6.0 in /usr/local/lib/python3.10/dist-packages (from tensorboard<2.13,>=2.12->tensorflow>=2.8.0->autokeras) (1.8.1)\n",
            "Requirement already satisfied: markdown>=2.6.8 in /usr/local/lib/python3.10/dist-packages (from tensorboard<2.13,>=2.12->tensorflow>=2.8.0->autokeras) (3.4.3)\n",
            "Requirement already satisfied: google-auth-oauthlib<1.1,>=0.5 in /usr/local/lib/python3.10/dist-packages (from tensorboard<2.13,>=2.12->tensorflow>=2.8.0->autokeras) (1.0.0)\n",
            "Requirement already satisfied: tensorboard-data-server<0.8.0,>=0.7.0 in /usr/local/lib/python3.10/dist-packages (from tensorboard<2.13,>=2.12->tensorflow>=2.8.0->autokeras) (0.7.0)\n",
            "Requirement already satisfied: werkzeug>=1.0.1 in /usr/local/lib/python3.10/dist-packages (from tensorboard<2.13,>=2.12->tensorflow>=2.8.0->autokeras) (2.3.0)\n",
            "Requirement already satisfied: idna<4,>=2.5 in /usr/local/lib/python3.10/dist-packages (from requests->keras-tuner>=1.1.0->autokeras) (3.4)\n",
            "Requirement already satisfied: urllib3<1.27,>=1.21.1 in /usr/local/lib/python3.10/dist-packages (from requests->keras-tuner>=1.1.0->autokeras) (1.26.15)\n",
            "Requirement already satisfied: charset-normalizer~=2.0.0 in /usr/local/lib/python3.10/dist-packages (from requests->keras-tuner>=1.1.0->autokeras) (2.0.12)\n",
            "Requirement already satisfied: certifi>=2017.4.17 in /usr/local/lib/python3.10/dist-packages (from requests->keras-tuner>=1.1.0->autokeras) (2022.12.7)\n",
            "Requirement already satisfied: tensorflow-hub>=0.8.0 in /usr/local/lib/python3.10/dist-packages (from tensorflow-text->keras-nlp>=0.4.0->autokeras) (0.13.0)\n",
            "Requirement already satisfied: rsa<5,>=3.1.4 in /usr/local/lib/python3.10/dist-packages (from google-auth<3,>=1.6.3->tensorboard<2.13,>=2.12->tensorflow>=2.8.0->autokeras) (4.9)\n",
            "Requirement already satisfied: pyasn1-modules>=0.2.1 in /usr/local/lib/python3.10/dist-packages (from google-auth<3,>=1.6.3->tensorboard<2.13,>=2.12->tensorflow>=2.8.0->autokeras) (0.3.0)\n",
            "Requirement already satisfied: cachetools<6.0,>=2.0.0 in /usr/local/lib/python3.10/dist-packages (from google-auth<3,>=1.6.3->tensorboard<2.13,>=2.12->tensorflow>=2.8.0->autokeras) (5.3.0)\n",
            "Requirement already satisfied: requests-oauthlib>=0.7.0 in /usr/local/lib/python3.10/dist-packages (from google-auth-oauthlib<1.1,>=0.5->tensorboard<2.13,>=2.12->tensorflow>=2.8.0->autokeras) (1.3.1)\n",
            "Requirement already satisfied: MarkupSafe>=2.1.1 in /usr/local/lib/python3.10/dist-packages (from werkzeug>=1.0.1->tensorboard<2.13,>=2.12->tensorflow>=2.8.0->autokeras) (2.1.2)\n",
            "Requirement already satisfied: pyasn1<0.6.0,>=0.4.6 in /usr/local/lib/python3.10/dist-packages (from pyasn1-modules>=0.2.1->google-auth<3,>=1.6.3->tensorboard<2.13,>=2.12->tensorflow>=2.8.0->autokeras) (0.5.0)\n",
            "Requirement already satisfied: oauthlib>=3.0.0 in /usr/local/lib/python3.10/dist-packages (from requests-oauthlib>=0.7.0->google-auth-oauthlib<1.1,>=0.5->tensorboard<2.13,>=2.12->tensorflow>=2.8.0->autokeras) (3.2.2)\n",
            "Installing collected packages: kt-legacy, keras-tuner, tensorflow-text, keras-nlp, autokeras\n",
            "Successfully installed autokeras-1.1.0 keras-nlp-0.4.1 keras-tuner-1.3.5 kt-legacy-1.0.5 tensorflow-text-2.12.1\n"
          ]
        }
      ],
      "source": [
        "!pip install autokeras"
      ]
    },
    {
      "cell_type": "code",
      "execution_count": null,
      "metadata": {
        "id": "5arXCXdazb7o"
      },
      "outputs": [],
      "source": [
        "import autokeras as ak\n",
        "\n",
        "import pandas as pd\n",
        "import numpy as np\n",
        "import matplotlib.pyplot as plt\n",
        "import seaborn as sns\n",
        "import time\n",
        "\n",
        "from sklearn import preprocessing # Для вызова метода .normalize()\n",
        "from sklearn.model_selection import train_test_split\n",
        "from sklearn.metrics import r2_score\n",
        "from sklearn.model_selection import cross_val_score\n",
        "from sklearn.tree import DecisionTreeRegressor\n",
        "\n",
        "from tensorflow.keras import utils # Используем для to_categorical\n",
        "from tensorflow.keras.callbacks import EarlyStopping, ModelCheckpoint\n",
        "from tensorflow.keras.models import load_model"
      ]
    },
    {
      "cell_type": "code",
      "execution_count": null,
      "metadata": {
        "colab": {
          "base_uri": "https://localhost:8080/"
        },
        "id": "MfM7enLE0JUA",
        "outputId": "3dad1514-1321-4b2e-db95-0af7ed9a191e"
      },
      "outputs": [
        {
          "output_type": "stream",
          "name": "stdout",
          "text": [
            "Mounted at /content/drive\n"
          ]
        }
      ],
      "source": [
        "from google.colab import drive\n",
        "drive.mount('/content/drive')"
      ]
    },
    {
      "cell_type": "markdown",
      "metadata": {
        "id": "H9Z1AteqdCu8"
      },
      "source": [
        "# Autokeras regression"
      ]
    },
    {
      "cell_type": "code",
      "source": [
        "x_train_reg = pd.read_csv('/content/drive/MyDrive/Базы/Metro/Datasets/datasets_df_clf/X_train_reg_df.csv')\n",
        "x_test_reg = pd.read_csv('/content/drive/MyDrive/Базы/Metro/Datasets/datasets_df_clf/X_test_reg_df.csv')\n",
        "y_train_reg = pd.read_csv('/content/drive/MyDrive/Базы/Metro/Datasets/datasets_df_clf/Y_train_reg_df.csv')\n",
        "y_test_reg = pd.read_csv('/content/drive/MyDrive/Базы/Metro/Datasets/datasets_df_clf/Y_test_reg_df.csv')\n",
        "\n",
        "x_train_reg.shape, x_test_reg.shape, y_train_reg.shape, y_test_reg.shape"
      ],
      "metadata": {
        "colab": {
          "base_uri": "https://localhost:8080/"
        },
        "id": "BwZVntB35DNX",
        "outputId": "103bfa1f-0ef5-4d7a-9d4b-f64b86263fa0"
      },
      "execution_count": null,
      "outputs": [
        {
          "output_type": "execute_result",
          "data": {
            "text/plain": [
              "((872816, 25), (218205, 25), (872816, 1), (218205, 1))"
            ]
          },
          "metadata": {},
          "execution_count": 28
        }
      ]
    },
    {
      "cell_type": "code",
      "execution_count": null,
      "metadata": {
        "id": "Rc3fsWHvSWiL"
      },
      "outputs": [],
      "source": [
        "# Определение EarlyStopping-коллбека - это остановка обучения, когда НС больше не учится\n",
        "es_callback = EarlyStopping(monitor='val_loss', patience=4) # останавливаем модель , если алгоритм сошелся"
      ]
    },
    {
      "cell_type": "code",
      "source": [
        "start_time = time.time()\n",
        "reg = ak.StructuredDataRegressor(overwrite=True, max_trials=25, tuner = 'bayesian', metrics=['mae', 'mse'],\n",
        "                         project_name=\"my_project\", directory=\"my_dir\",)\n",
        "# Обучаем 25  моделей\n",
        "reg.fit(x_train_reg,\n",
        "        y_train_reg,\n",
        "        epochs=15,\n",
        "        batch_size=128,\n",
        "        validation_split=0.15,\n",
        "        callbacks=[es_callback],)\n",
        "end_time = time.time() # засекаем время\n",
        "# Вывод времени обучения и точности модели\n",
        "print(\"Total training time:\", end_time - start_time)\n",
        "print(\"Training mae:\", reg.evaluate(x_train_reg, y_train_reg)[1])\n",
        "print(\"Test mae:\", reg.evaluate(x_test_reg, y_test_reg)[1])\n",
        "\n",
        "# Выведем на экрн лучшую модель\n",
        "model = reg.export_model()\n",
        "model.summary()\n",
        "\n",
        "# Сохраним модель\n",
        "try:\n",
        "    model.save(\"/content/drive/MyDrive/Базы/Metro/autokeras_model_reg_3\", save_format=\"keras\")\n",
        "except Exception:\n",
        "    model.save(\"/content/drive/MyDrive/Базы/Metro/autokeras_model_reg_3.h5\")\n"
      ],
      "metadata": {
        "colab": {
          "base_uri": "https://localhost:8080/"
        },
        "id": "ESAvLNqxsd8c",
        "outputId": "3dcb4e60-e5ff-4be3-f862-e504d3b778ab"
      },
      "execution_count": null,
      "outputs": [
        {
          "output_type": "stream",
          "name": "stdout",
          "text": [
            "Trial 25 Complete [00h 23m 55s]\n",
            "val_loss: 13728.91796875\n",
            "\n",
            "Best val_loss So Far: 908.6651000976562\n",
            "Total elapsed time: 09h 31m 54s\n",
            "Epoch 1/15\n",
            "6819/6819 [==============================] - 79s 11ms/step - loss: 12404.9756 - mae: 83.1891 - mse: 12404.9756\n",
            "Epoch 2/15\n",
            "6819/6819 [==============================] - 74s 11ms/step - loss: 6853.7617 - mae: 61.9483 - mse: 6853.7617\n",
            "Epoch 3/15\n",
            "6819/6819 [==============================] - 76s 11ms/step - loss: 5579.6406 - mae: 55.9730 - mse: 5579.6406\n",
            "Epoch 4/15\n",
            "6819/6819 [==============================] - 77s 11ms/step - loss: 4963.1382 - mae: 52.9476 - mse: 4963.1382\n",
            "Epoch 5/15\n",
            "6819/6819 [==============================] - 79s 12ms/step - loss: 4553.2549 - mae: 50.8330 - mse: 4553.2549\n",
            "Epoch 6/15\n",
            "6819/6819 [==============================] - 79s 12ms/step - loss: 4313.8105 - mae: 49.5095 - mse: 4313.8105\n",
            "Epoch 7/15\n",
            "6819/6819 [==============================] - 78s 11ms/step - loss: 4166.1582 - mae: 48.7259 - mse: 4166.1582\n",
            "Epoch 8/15\n",
            "6819/6819 [==============================] - 78s 11ms/step - loss: 4046.8984 - mae: 48.1460 - mse: 4046.8984\n",
            "Epoch 9/15\n",
            "6819/6819 [==============================] - 77s 11ms/step - loss: 3955.5603 - mae: 47.6348 - mse: 3955.5603\n",
            "Epoch 10/15\n",
            "6819/6819 [==============================] - 76s 11ms/step - loss: 3855.8982 - mae: 47.0401 - mse: 3855.8982\n",
            "Epoch 11/15\n",
            "6819/6819 [==============================] - 76s 11ms/step - loss: 3823.0476 - mae: 46.8521 - mse: 3823.0476\n",
            "Epoch 12/15\n",
            "6819/6819 [==============================] - 75s 11ms/step - loss: 3744.6377 - mae: 46.4008 - mse: 3744.6377\n",
            "Epoch 13/15\n",
            "6819/6819 [==============================] - 75s 11ms/step - loss: 3732.1567 - mae: 46.3307 - mse: 3732.1567\n",
            "Epoch 14/15\n",
            "6819/6819 [==============================] - 77s 11ms/step - loss: 3651.1301 - mae: 45.8829 - mse: 3651.1301\n",
            "Epoch 15/15\n",
            "6819/6819 [==============================] - 75s 11ms/step - loss: 3611.5178 - mae: 45.6168 - mse: 3611.5178\n",
            "Total training time: 36026.113283872604\n",
            "27276/27276 [==============================] - 175s 6ms/step - loss: 2914.7659 - mae: 41.9226 - mse: 2914.7659\n",
            "Training mae: 41.922584533691406\n",
            "6819/6819 [==============================] - 43s 6ms/step - loss: 2904.4978 - mae: 41.8946 - mse: 2904.4978\n",
            "Test mae: 41.89460754394531\n",
            "Model: \"model\"\n",
            "_________________________________________________________________\n",
            " Layer (type)                Output Shape              Param #   \n",
            "=================================================================\n",
            " input_1 (InputLayer)        [(None, 25)]              0         \n",
            "                                                                 \n",
            " multi_category_encoding (Mu  (None, 25)               0         \n",
            " ltiCategoryEncoding)                                            \n",
            "                                                                 \n",
            " normalization (Normalizatio  (None, 25)               51        \n",
            " n)                                                              \n",
            "                                                                 \n",
            " dense (Dense)               (None, 128)               3328      \n",
            "                                                                 \n",
            " batch_normalization (BatchN  (None, 128)              512       \n",
            " ormalization)                                                   \n",
            "                                                                 \n",
            " re_lu (ReLU)                (None, 128)               0         \n",
            "                                                                 \n",
            " dense_1 (Dense)             (None, 128)               16512     \n",
            "                                                                 \n",
            " batch_normalization_1 (Batc  (None, 128)              512       \n",
            " hNormalization)                                                 \n",
            "                                                                 \n",
            " re_lu_1 (ReLU)              (None, 128)               0         \n",
            "                                                                 \n",
            " dropout (Dropout)           (None, 128)               0         \n",
            "                                                                 \n",
            " regression_head_1 (Dense)   (None, 1)                 129       \n",
            "                                                                 \n",
            "=================================================================\n",
            "Total params: 21,044\n",
            "Trainable params: 20,481\n",
            "Non-trainable params: 563\n",
            "_________________________________________________________________\n"
          ]
        },
        {
          "output_type": "stream",
          "name": "stderr",
          "text": [
            "WARNING:absl:Found untraced functions such as _update_step_xla while saving (showing 1 of 1). These functions will not be directly callable after loading.\n"
          ]
        }
      ]
    },
    {
      "cell_type": "code",
      "execution_count": null,
      "metadata": {
        "id": "4y4IR4iD5p3S"
      },
      "outputs": [],
      "source": [
        "# Загрузка модели\n",
        "model = load_model('/content/drive/MyDrive/Базы/Metro/Models/autokeras_model_reg_3', custom_objects=ak.CUSTOM_OBJECTS)"
      ]
    },
    {
      "cell_type": "code",
      "source": [
        "# Predict with the best model.\n",
        "expected = y_test_reg\n",
        "predicted = model.predict(x_test_reg)"
      ],
      "metadata": {
        "id": "x6ozHb4sHcj4",
        "colab": {
          "base_uri": "https://localhost:8080/"
        },
        "outputId": "60242765-848e-4a11-ff52-9dfea6a1e1c2"
      },
      "execution_count": null,
      "outputs": [
        {
          "output_type": "stream",
          "name": "stdout",
          "text": [
            "6819/6819 [==============================] - 36s 5ms/step\n"
          ]
        }
      ]
    },
    {
      "cell_type": "code",
      "source": [
        "r2_metric = r2_score(expected, predicted)\n",
        "r2_metric"
      ],
      "metadata": {
        "colab": {
          "base_uri": "https://localhost:8080/"
        },
        "id": "W6VLXRGtHU_1",
        "outputId": "511c2032-7fce-4106-a263-1cba1ba069b8"
      },
      "execution_count": null,
      "outputs": [
        {
          "output_type": "execute_result",
          "data": {
            "text/plain": [
              "0.9464592120942144"
            ]
          },
          "metadata": {},
          "execution_count": 51
        }
      ]
    },
    {
      "cell_type": "code",
      "source": [
        "# # The model weights (that are considered the best) are loaded into the\n",
        "# # model.\n",
        "# model.load_weights(checkpoint_filepath)"
      ],
      "metadata": {
        "colab": {
          "base_uri": "https://localhost:8080/"
        },
        "id": "VnZdco97_vJI",
        "outputId": "47f09402-fd33-47e9-d72e-0f4134158bd5"
      },
      "execution_count": null,
      "outputs": [
        {
          "output_type": "execute_result",
          "data": {
            "text/plain": [
              "<tensorflow.python.checkpoint.checkpoint.CheckpointLoadStatus at 0x7f7d182b8d60>"
            ]
          },
          "metadata": {},
          "execution_count": 39
        }
      ]
    },
    {
      "cell_type": "code",
      "source": [
        "model.save('/content/autokeras_model_reg_3')"
      ],
      "metadata": {
        "colab": {
          "base_uri": "https://localhost:8080/"
        },
        "id": "S5F_QEetbXYg",
        "outputId": "80f94712-d455-45bc-e484-bb37d492ac9c"
      },
      "execution_count": null,
      "outputs": [
        {
          "output_type": "stream",
          "name": "stderr",
          "text": [
            "WARNING:absl:Found untraced functions such as _update_step_xla while saving (showing 1 of 1). These functions will not be directly callable after loading.\n"
          ]
        }
      ]
    },
    {
      "cell_type": "code",
      "source": [
        "model_reg = load_model('/content/autokeras_model_reg_3')"
      ],
      "metadata": {
        "id": "U_YNvkFbb-KV"
      },
      "execution_count": null,
      "outputs": []
    },
    {
      "cell_type": "markdown",
      "source": [
        "## Сохранение модели и проверка результата r2 = 0,94"
      ],
      "metadata": {
        "id": "KrQwQ1DnMg3N"
      }
    },
    {
      "cell_type": "code",
      "source": [
        "# Загрузка модели\n",
        "model = load_model('/content/drive/MyDrive/Базы/Metro/Models/autokeras_model_reg_3', custom_objects=ak.CUSTOM_OBJECTS)"
      ],
      "metadata": {
        "id": "OWJ2GuPX4rpJ"
      },
      "execution_count": null,
      "outputs": []
    },
    {
      "cell_type": "code",
      "source": [
        "# Predict with the best model.\n",
        "y_pred_reg = model_reg.predict(x_test_reg)"
      ],
      "metadata": {
        "id": "0vwg6-mPLM2-",
        "colab": {
          "base_uri": "https://localhost:8080/"
        },
        "outputId": "2dc0a4d3-32ee-4eca-8aff-ebe50111544b"
      },
      "execution_count": null,
      "outputs": [
        {
          "output_type": "stream",
          "name": "stdout",
          "text": [
            "6819/6819 [==============================] - 39s 6ms/step\n"
          ]
        }
      ]
    },
    {
      "cell_type": "code",
      "source": [
        "r2_metric = r2_score(expected, y_pred_reg)\n",
        "r2_metric"
      ],
      "metadata": {
        "colab": {
          "base_uri": "https://localhost:8080/"
        },
        "outputId": "96cb3413-445c-4201-f1df-67f53fdf2935",
        "id": "-cvugN9YLM2_"
      },
      "execution_count": null,
      "outputs": [
        {
          "output_type": "execute_result",
          "data": {
            "text/plain": [
              "0.9464592120942144"
            ]
          },
          "metadata": {},
          "execution_count": 66
        }
      ]
    },
    {
      "cell_type": "markdown",
      "source": [
        "# DecisionTreeRegressor"
      ],
      "metadata": {
        "id": "13kKcqUv84Tn"
      }
    },
    {
      "cell_type": "code",
      "source": [
        "# Объявим модель регрессии с помощью алгоритма решающих деревьев\n",
        "regressor = DecisionTreeRegressor()\n",
        "# Вызовем процедуру эмпирического оценивания обобщающей способности алгоритма - кросс валидацию\n",
        "cross_val_score(regressor, x_test_reg, y_test_reg, cv=10)\n"
      ],
      "metadata": {
        "colab": {
          "base_uri": "https://localhost:8080/"
        },
        "id": "0dxEQZ5A845Q",
        "outputId": "4e49675a-e19c-4783-9026-f8c9482eb6aa"
      },
      "execution_count": null,
      "outputs": [
        {
          "output_type": "execute_result",
          "data": {
            "text/plain": [
              "array([0.98991299, 0.98972632, 0.98974076, 0.98981963, 0.98966783,\n",
              "       0.9896663 , 0.98981712, 0.98964026, 0.98971712, 0.98977516])"
            ]
          },
          "metadata": {},
          "execution_count": 74
        }
      ]
    },
    {
      "cell_type": "code",
      "source": [
        "# Обучим модель на тренировочных данных\n",
        "regressor.fit(x_train_reg, y_train_reg,)"
      ],
      "metadata": {
        "colab": {
          "base_uri": "https://localhost:8080/"
        },
        "id": "IjE5wjSkthNA",
        "outputId": "c72e5dc8-3225-443e-bf33-afe0ef4e0769"
      },
      "execution_count": null,
      "outputs": [
        {
          "output_type": "stream",
          "name": "stdout",
          "text": [
            "DecisionTreeRegressor()\n"
          ]
        }
      ]
    },
    {
      "cell_type": "code",
      "source": [
        "# Предскажем тестовую выборку на лючшей модели алгоритма\n",
        "expected_dtr = y_test_reg\n",
        "predicted_dtr = regressor.predict(x_test_reg)"
      ],
      "metadata": {
        "id": "9rAgJv88tEs8"
      },
      "execution_count": null,
      "outputs": []
    },
    {
      "cell_type": "code",
      "source": [
        "# Вызовем метрику r2, которая требуется по условию ТЗ\n",
        "r2_metric_dtr = r2_score(expected_dtr, predicted_dtr)\n",
        "r2_metric_dtr"
      ],
      "metadata": {
        "colab": {
          "base_uri": "https://localhost:8080/"
        },
        "id": "0P4rJXmE9ff2",
        "outputId": "8cdc7646-bcc7-46f6-9497-eb8db0d97a0d"
      },
      "execution_count": null,
      "outputs": [
        {
          "output_type": "execute_result",
          "data": {
            "text/plain": [
              "0.9902458149657541"
            ]
          },
          "metadata": {},
          "execution_count": 79
        }
      ]
    },
    {
      "cell_type": "markdown",
      "source": [
        "## Сохранение модели и проверка результата r2 = 0,99"
      ],
      "metadata": {
        "id": "ERTLEMGNvMH9"
      }
    },
    {
      "cell_type": "code",
      "source": [
        "from joblib import dump, load"
      ],
      "metadata": {
        "id": "KvCFgt4bv6Om"
      },
      "execution_count": null,
      "outputs": []
    },
    {
      "cell_type": "code",
      "source": [
        "# Сохраним файл с моделью\n",
        "dump(regressor, '/content/drive/MyDrive/Базы/Metro/Models/DecisionTreeRegressor.joblib')\n",
        "reg = load('/content/drive/MyDrive/Базы/Metro/Models/DecisionTreeRegressor.joblib')"
      ],
      "metadata": {
        "id": "4swL3OyLKl9A"
      },
      "execution_count": null,
      "outputs": []
    },
    {
      "cell_type": "code",
      "source": [
        "# Predict with the best model.\n",
        "y_pred_reg = reg.predict(x_test_reg)"
      ],
      "metadata": {
        "id": "RbvzIWfPvMH-"
      },
      "execution_count": null,
      "outputs": []
    },
    {
      "cell_type": "code",
      "source": [
        "print(r2_score(y_test_reg, y_pred_reg))\n"
      ],
      "metadata": {
        "colab": {
          "base_uri": "https://localhost:8080/"
        },
        "outputId": "39fe2692-1dcc-4bfb-d76c-97df46743394",
        "id": "aoBYPzDPvMH-"
      },
      "execution_count": null,
      "outputs": [
        {
          "output_type": "stream",
          "name": "stdout",
          "text": [
            "0.9902458149657541\n"
          ]
        }
      ]
    }
  ],
  "metadata": {
    "colab": {
      "provenance": [],
      "toc_visible": true,
      "mount_file_id": "1KvRxAMmudOZAFT_9y0fkqOeJEnlz6cSo",
      "authorship_tag": "ABX9TyMPHZABDQMrnlKoEowz46qU",
      "include_colab_link": true
    },
    "kernelspec": {
      "display_name": "Python 3",
      "name": "python3"
    },
    "language_info": {
      "name": "python"
    },
    "accelerator": "GPU",
    "gpuClass": "standard"
  },
  "nbformat": 4,
  "nbformat_minor": 0
}